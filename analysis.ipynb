{
 "cells": [
  {
   "cell_type": "code",
   "execution_count": 176,
   "id": "3efcafbd-4c84-4989-b93f-5f6c15ed301f",
   "metadata": {},
   "outputs": [],
   "source": [
    "import wandb\n",
    "import torch\n",
    "from vit_pytorch.efficient import ViT\n",
    "from nystrom_attention import Nystromformer\n",
    "from vit_pytorch import MAE\n",
    "import torchvision \n",
    "from tqdm import tqdm\n",
    "from torchvision import transforms\n",
    "\n",
    "efficient_transformer = Nystromformer(\n",
    "    dim = 128,\n",
    "    depth = 6,\n",
    "    heads = 4,\n",
    "    num_landmarks = 256\n",
    ")\n",
    "\n",
    "v2 = ViT(\n",
    "    dim = 128,\n",
    "    image_size = 112,\n",
    "    patch_size = 16,\n",
    "    num_classes = 256,\n",
    "    transformer = efficient_transformer\n",
    ")\n",
    "mae_nystrom = MAE(\n",
    "    encoder = v2,\n",
    "    masking_ratio = 0.75,   # the paper recommended 75% masked patches\n",
    "    decoder_dim = 128,      # paper showed good results with just 512\n",
    "    decoder_depth = 4       # anywhere from 1 to 8\n",
    ")\n",
    "from vit_pytorch import ViT as ViT2\n",
    "\n",
    "# efficient_transformer = Nystromformer(\n",
    "#     dim = 128,\n",
    "#     depth = 6,\n",
    "#     heads = 4,\n",
    "#     num_landmarks = 256\n",
    "# )\n",
    "\n",
    "v = ViT2(\n",
    "    image_size = 112,\n",
    "    patch_size = 16,\n",
    "    num_classes = 1000,\n",
    "    dim = 256,\n",
    "    depth = 6,\n",
    "    heads = 8,\n",
    "    mlp_dim = 512\n",
    ")\n",
    "mae = MAE(\n",
    "    encoder = v,\n",
    "    masking_ratio = 0.75,   # the paper recommended 75% masked patches\n",
    "    decoder_dim = 128,      # paper showed good results with just 512\n",
    "    decoder_depth = 4       # anywhere from 1 to 8\n",
    ")"
   ]
  },
  {
   "cell_type": "code",
   "execution_count": 177,
   "id": "fd794725-0007-4423-b034-487f56fa7ac8",
   "metadata": {},
   "outputs": [],
   "source": [
    "model = torch.load('trained-vit_9.pt')"
   ]
  },
  {
   "cell_type": "code",
   "execution_count": 178,
   "id": "edb04f26-861e-4f93-bef1-6d73364ea5b9",
   "metadata": {},
   "outputs": [],
   "source": [
    "sd = torch.load('trained-vit_9.pt')"
   ]
  },
  {
   "cell_type": "code",
   "execution_count": 179,
   "id": "95a50aac-facd-40c2-9c03-24644ff18cd6",
   "metadata": {},
   "outputs": [],
   "source": [
    "from vit_pytorch.extractor import Extractor\n"
   ]
  },
  {
   "cell_type": "code",
   "execution_count": 180,
   "id": "28539ddf-ee6f-4c97-842c-86acb2c33347",
   "metadata": {},
   "outputs": [
    {
     "data": {
      "text/plain": [
       "<All keys matched successfully>"
      ]
     },
     "execution_count": 180,
     "metadata": {},
     "output_type": "execute_result"
    }
   ],
   "source": [
    "mae.load_state_dict({k[len('module.'):]:v for k,v in sd.items()})"
   ]
  },
  {
   "cell_type": "code",
   "execution_count": 181,
   "id": "84d96be5-1cc2-4ca8-aad3-664541bb9d9f",
   "metadata": {},
   "outputs": [],
   "source": [
    "v = Extractor(v)"
   ]
  },
  {
   "cell_type": "code",
   "execution_count": 182,
   "id": "b73da1b8-6fde-45af-9cd5-ad03bab196c4",
   "metadata": {},
   "outputs": [],
   "source": [
    "img = torch.randn(1, 3, 112, 112)\n",
    "logits, embeddings = v(img)"
   ]
  },
  {
   "cell_type": "code",
   "execution_count": 183,
   "id": "f06402c9-3353-43b4-a26c-2dff95c63172",
   "metadata": {},
   "outputs": [],
   "source": [
    "v = v.eject()"
   ]
  },
  {
   "cell_type": "code",
   "execution_count": 184,
   "id": "636961e6-471e-4f5f-a554-41cc491d2a93",
   "metadata": {},
   "outputs": [],
   "source": [
    "from vit_pytorch.recorder import Recorder\n",
    "v = Recorder(v)\n",
    "\n",
    "# forward pass now returns predictions and the attention maps\n",
    "\n",
    "img = torch.randn(1, 3, 112, 112)\n",
    "preds, attns = v(img)"
   ]
  },
  {
   "cell_type": "code",
   "execution_count": 185,
   "id": "e56dc82c-d032-4099-91a1-9ba7cb0b62a5",
   "metadata": {},
   "outputs": [],
   "source": [
    "v = v.eject()"
   ]
  },
  {
   "cell_type": "code",
   "execution_count": 186,
   "id": "05b4efdb-9473-4420-af11-1c721ca2498e",
   "metadata": {},
   "outputs": [
    {
     "data": {
      "text/plain": [
       "torch.Size([1, 6, 8, 50, 50])"
      ]
     },
     "execution_count": 186,
     "metadata": {},
     "output_type": "execute_result"
    }
   ],
   "source": [
    "attns.shape"
   ]
  },
  {
   "cell_type": "code",
   "execution_count": 187,
   "id": "842d44bb-f81a-4377-af1f-c7f8a6838170",
   "metadata": {},
   "outputs": [],
   "source": [
    "import matplotlib.pyplot as plt"
   ]
  },
  {
   "cell_type": "code",
   "execution_count": 199,
   "id": "64948b5d-9fd0-4486-b606-9fa89d058493",
   "metadata": {},
   "outputs": [
    {
     "data": {
      "text/plain": [
       "<matplotlib.image.AxesImage at 0x7ffdb04f8f70>"
      ]
     },
     "execution_count": 199,
     "metadata": {},
     "output_type": "execute_result"
    },
    {
     "data": {
      "image/png": "[encoded data removed]",
      "text/plain": [
       "<Figure size 432x288 with 1 Axes>"
      ]
     },
     "metadata": {
      "needs_background": "light"
     },
     "output_type": "display_data"
    }
   ],
   "source": [
    "plt.imshow(attns[0][3][7])"
   ]
  },
  {
   "cell_type": "code",
   "execution_count": 204,
   "id": "10a5b61b-964c-45f3-81aa-ffcacd16e5d6",
   "metadata": {},
   "outputs": [
    {
     "data": {
      "text/plain": [
       "torch.Size([1, 1000])"
      ]
     },
     "execution_count": 204,
     "metadata": {},
     "output_type": "execute_result"
    }
   ],
   "source": [
    "preds.shape"
   ]
  },
  {
   "cell_type": "code",
   "execution_count": 211,
   "id": "d75a86da-a45c-4f5b-a151-b349c4e005f1",
   "metadata": {},
   "outputs": [
    {
     "data": {
      "text/plain": [
       "(array([ 13.,  42., 141., 199., 243., 185., 114.,  51.,   9.,   3.]),\n",
       " array([-1.562992  , -1.2055976 , -0.8482033 , -0.49080893, -0.13341458,\n",
       "         0.22397977,  0.5813741 ,  0.93876845,  1.2961628 ,  1.6535572 ,\n",
       "         2.0109515 ], dtype=float32),\n",
       " <BarContainer object of 10 artists>)"
      ]
     },
     "execution_count": 211,
     "metadata": {},
     "output_type": "execute_result"
    },
    {
     "data": {
      "image/png": "[encoded data removed]",
      "text/plain": [
       "<Figure size 432x288 with 1 Axes>"
      ]
     },
     "metadata": {
      "needs_background": "light"
     },
     "output_type": "display_data"
    }
   ],
   "source": [
    "plt.hist(preds[0].detach().numpy())"
   ]
  },
  {
   "cell_type": "code",
   "execution_count": null,
   "id": "a2fdd56f-a978-406e-861c-e91b28a3e12b",
   "metadata": {},
   "outputs": [],
   "source": []
  }
 ],
 "metadata": {
  "kernelspec": {
   "display_name": "Python [conda env:.conda-cv]",
   "language": "python",
   "name": "conda-env-.conda-cv-py"
  },
  "language_info": {
   "codemirror_mode": {
    "name": "ipython",
    "version": 3
   },
   "file_extension": ".py",
   "mimetype": "text/x-python",
   "name": "python",
   "nbconvert_exporter": "python",
   "pygments_lexer": "ipython3",
   "version": "3.9.7"
  }
 },
 "nbformat": 4,
 "nbformat_minor": 5
}
