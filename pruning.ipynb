{
 "cells": [
  {
   "cell_type": "code",
   "execution_count": 1,
   "id": "095c9416-b871-46e4-9c90-0eed200a8b48",
   "metadata": {},
   "outputs": [],
   "source": [
    "import torch\n",
    "from vit_pytorch.efficient import ViT\n",
    "from nystrom_attention import Nystromformer\n",
    "from vit_pytorch import MAE\n",
    "import torchvision \n",
    "from tqdm import tqdm\n",
    "from torchvision import transforms\n",
    "import torch\n",
    "from torch import nn\n",
    "import torch.nn.functional as F\n",
    "from einops import repeat\n",
    "\n",
    "from vit_pytorch.vit import Transformer\n",
    "from torch import nn\n",
    "efficient_transformer = Nystromformer(\n",
    "    dim = 128,\n",
    "    depth = 6,\n",
    "    heads = 4,\n",
    "    num_landmarks = 256\n",
    ")\n",
    "\n",
    "v_n = ViT(\n",
    "    dim = 128,\n",
    "    image_size = 112,\n",
    "    patch_size = 16,\n",
    "    num_classes = 256,\n",
    "    transformer = efficient_transformer\n",
    ")\n",
    "mae_nystrom = MAE(\n",
    "    encoder = v_n,\n",
    "    masking_ratio = 0.5,   # the paper recommended 75% masked patches\n",
    "    decoder_dim = 128,      # paper showed good results with just 512\n",
    "    decoder_depth = 4       # anywhere from 1 to 8\n",
    ")"
   ]
  },
  {
   "cell_type": "code",
   "execution_count": 2,
   "id": "1739f631-137e-49b7-9ecc-7bb097fb090a",
   "metadata": {},
   "outputs": [],
   "source": [
    "class MAE(nn.Module):\n",
    "    def __init__(\n",
    "        self,\n",
    "        *,\n",
    "        encoder,\n",
    "        decoder_dim,\n",
    "        masking_ratio = 0.75,\n",
    "        decoder_depth = 1,\n",
    "        decoder_heads = 8,\n",
    "        decoder_dim_head = 64\n",
    "    ):\n",
    "        super().__init__()\n",
    "        assert masking_ratio > 0 and masking_ratio < 1, 'masking ratio must be kept between 0 and 1'\n",
    "        self.masking_ratio = masking_ratio\n",
    "\n",
    "        # extract some hyperparameters and functions from encoder (vision transformer to be trained)\n",
    "\n",
    "        self.encoder = encoder\n",
    "        num_patches, encoder_dim = encoder.pos_embedding.shape[-2:]\n",
    "        self.to_patch, self.patch_to_emb = encoder.to_patch_embedding[:2]\n",
    "        pixel_values_per_patch = self.patch_to_emb.weight.shape[-1]\n",
    "\n",
    "        # decoder parameters\n",
    "\n",
    "        self.enc_to_dec = nn.Linear(encoder_dim, decoder_dim) if encoder_dim != decoder_dim else nn.Identity()\n",
    "        self.mask_token = nn.Parameter(torch.randn(decoder_dim))\n",
    "        self.decoder = Transformer(dim = decoder_dim, depth = decoder_depth, heads = decoder_heads, dim_head = decoder_dim_head, mlp_dim = decoder_dim * 4)\n",
    "        self.decoder_pos_emb = nn.Embedding(num_patches, decoder_dim)\n",
    "        self.to_pixels = nn.Linear(decoder_dim, pixel_values_per_patch)\n",
    "\n",
    "    def forward(self, img):\n",
    "        device = img.device\n",
    "\n",
    "        # get patches\n",
    "\n",
    "        patches = self.to_patch(img)\n",
    "        batch, num_patches, *_ = patches.shape\n",
    "\n",
    "        # patch to encoder tokens and add positions\n",
    "\n",
    "        tokens = self.patch_to_emb(patches)\n",
    "        tokens = tokens + self.encoder.pos_embedding[:, 1:(num_patches + 1)]\n",
    "\n",
    "        # calculate of patches needed to be masked, and get random indices, dividing it up for mask vs unmasked\n",
    "\n",
    "        num_masked = int(self.masking_ratio * num_patches)\n",
    "        rand_indices = torch.rand(batch, num_patches, device = device).argsort(dim = -1)\n",
    "        masked_indices, unmasked_indices = rand_indices[:, :num_masked], rand_indices[:, num_masked:]\n",
    "\n",
    "        # get the unmasked tokens to be encoded\n",
    "\n",
    "        batch_range = torch.arange(batch, device = device)[:, None]\n",
    "        tokens = tokens[batch_range, unmasked_indices]\n",
    "\n",
    "        # get the patches to be masked for the final reconstruction loss\n",
    "\n",
    "        masked_patches = patches[batch_range, masked_indices]\n",
    "\n",
    "        # attend with vision transformer\n",
    "\n",
    "        encoded_tokens = self.encoder.transformer(tokens)\n",
    "\n",
    "        # project encoder to decoder dimensions, if they are not equal - the paper says you can get away with a smaller dimension for decoder\n",
    "\n",
    "        decoder_tokens = self.enc_to_dec(encoded_tokens)\n",
    "\n",
    "        # reapply decoder position embedding to unmasked tokens\n",
    "\n",
    "        decoder_tokens = decoder_tokens + self.decoder_pos_emb(unmasked_indices)\n",
    "\n",
    "        # repeat mask tokens for number of masked, and add the positions using the masked indices derived above\n",
    "\n",
    "        mask_tokens = repeat(self.mask_token, 'd -> b n d', b = batch, n = num_masked)\n",
    "        mask_tokens = mask_tokens + self.decoder_pos_emb(masked_indices)\n",
    "\n",
    "        # concat the masked tokens to the decoder tokens and attend with decoder\n",
    "\n",
    "        decoder_tokens = torch.cat((mask_tokens, decoder_tokens), dim = 1)\n",
    "        decoded_tokens = self.decoder(decoder_tokens)\n",
    "\n",
    "        # splice out the mask tokens and project to pixel values\n",
    "\n",
    "        mask_tokens = decoded_tokens[:, :num_masked]\n",
    "        pred_pixel_values = self.to_pixels(mask_tokens)\n",
    "\n",
    "        # calculate reconstruction loss\n",
    "\n",
    "        recon_loss = F.mse_loss(pred_pixel_values, masked_patches)\n",
    "        return recon_loss, pred_pixel_values, masked_patches"
   ]
  },
  {
   "cell_type": "code",
   "execution_count": 3,
   "id": "57706b1d-347a-471f-8d76-2649f83ad682",
   "metadata": {},
   "outputs": [],
   "source": [
    "from vit_pytorch import ViT as ViT2\n",
    "v = ViT2(\n",
    "    image_size = 112,\n",
    "    patch_size = 16,\n",
    "    num_classes = 1000,\n",
    "    dim = 256,\n",
    "    depth = 6,\n",
    "    heads = 8,\n",
    "    mlp_dim = 512\n",
    ")\n",
    "mae = MAE(\n",
    "    encoder = v,\n",
    "    masking_ratio = 0.25,   # the paper recommended 75% masked patches\n",
    "    decoder_dim = 128,      # paper showed good results with just 512\n",
    "    decoder_depth = 4       # anywhere from 1 to 8\n",
    ")"
   ]
  },
  {
   "cell_type": "code",
   "execution_count": 4,
   "id": "4a6f89d6-e322-41ea-93ff-c32edd492fb4",
   "metadata": {},
   "outputs": [],
   "source": [
    "mae = mae.cuda()\n",
    "\n",
    "mae_nystrom = mae_nystrom.cuda()"
   ]
  },
  {
   "cell_type": "code",
   "execution_count": 5,
   "id": "2a342347-5894-464e-bf3e-c41482105ec8",
   "metadata": {},
   "outputs": [],
   "source": [
    "\n",
    "\n",
    "transform = transforms.Compose([\n",
    "    # you can add other transformations in this list\n",
    "    transforms.ToTensor(),\n",
    "     transforms.RandomHorizontalFlip(),\n",
    "    transforms.RandomResizedCrop((112,112))\n",
    "])\n",
    "dataset = torchvision.datasets.ImageFolder('~/data/imagenet', transform=transform)\n",
    "\n",
    "dataloader = torch.utils.data.DataLoader(\n",
    "    dataset,\n",
    "    batch_size=8,\n",
    "    shuffle=True,\n",
    "    pin_memory=True,\n",
    "    num_workers=4,\n",
    "    persistent_workers=True,\n",
    "    prefetch_factor=2\n",
    ")"
   ]
  },
  {
   "cell_type": "code",
   "execution_count": 6,
   "id": "aa312a72-4c37-43d1-aa5b-fb2214e5e0aa",
   "metadata": {},
   "outputs": [],
   "source": [
    "def eval(model):\n",
    "    tl = 0\n",
    "    for batch, _ in tqdm(dataloader):\n",
    "        loss = model(batch.cuda())\n",
    "        tl += loss.sum().item()\n",
    "    return tl"
   ]
  },
  {
   "cell_type": "code",
   "execution_count": 7,
   "id": "d24dbaa8-7e52-4991-ac18-563dd50ec28a",
   "metadata": {},
   "outputs": [
    {
     "data": {
      "text/plain": [
       "<All keys matched successfully>"
      ]
     },
     "execution_count": 7,
     "metadata": {},
     "output_type": "execute_result"
    }
   ],
   "source": [
    "model = torch.load('trained-vit_9.pt')\n",
    "sd = torch.load('trained-vit_9.pt')\n",
    "mae.load_state_dict({k[len('module.'):]:v for k,v in sd.items()})"
   ]
  },
  {
   "cell_type": "code",
   "execution_count": 7,
   "id": "c300c475-79ce-446d-af23-647a762df01f",
   "metadata": {},
   "outputs": [
    {
     "name": "stderr",
     "output_type": "stream",
     "text": [
      "100%|██████████| 6250/6250 [02:20<00:00, 44.61it/s]\n"
     ]
    },
    {
     "data": {
      "text/plain": [
       "127.05671374313533"
      ]
     },
     "execution_count": 7,
     "metadata": {},
     "output_type": "execute_result"
    }
   ],
   "source": [
    "eval(mae)"
   ]
  },
  {
   "cell_type": "code",
   "execution_count": 10,
   "id": "b57fb6a1-1bc7-45b3-ab91-495627cedec8",
   "metadata": {},
   "outputs": [],
   "source": [
    "import torch.nn.utils.prune as prune"
   ]
  },
  {
   "cell_type": "code",
   "execution_count": 11,
   "id": "23b49669-4c02-4adb-90a2-5df702277486",
   "metadata": {},
   "outputs": [],
   "source": [
    "layers = [(module, 'weight') for module in mae.modules() if isinstance(module, torch.nn.Linear)]\n",
    "prune.global_unstructured(\n",
    "    layers,\n",
    "    pruning_method=prune.L1Unstructured,\n",
    "    amount=0.5,\n",
    ")"
   ]
  },
  {
   "cell_type": "code",
   "execution_count": 12,
   "id": "cc0822af-461a-4e55-9d5a-ccb3f0ef4a1b",
   "metadata": {},
   "outputs": [
    {
     "name": "stderr",
     "output_type": "stream",
     "text": [
      "100%|██████████| 6250/6250 [02:20<00:00, 44.64it/s]\n"
     ]
    },
    {
     "data": {
      "text/plain": [
       "295.5383972302079"
      ]
     },
     "execution_count": 12,
     "metadata": {},
     "output_type": "execute_result"
    }
   ],
   "source": [
    "eval(mae)\n"
   ]
  },
  {
   "cell_type": "code",
   "execution_count": 49,
   "id": "573a77e6-d7eb-4077-9991-608bb6e84a51",
   "metadata": {},
   "outputs": [
    {
     "data": {
      "text/plain": [
       "'1.10.1'"
      ]
     },
     "execution_count": 49,
     "metadata": {},
     "output_type": "execute_result"
    }
   ],
   "source": [
    "torch.__version__"
   ]
  },
  {
   "cell_type": "code",
   "execution_count": 31,
   "id": "01a76a62-db97-4477-b3bc-a82c4458edcb",
   "metadata": {},
   "outputs": [],
   "source": [
    "layers = [(module, 'weight') for module in mae_nystrom.modules() if isinstance(module, torch.nn.Linear)]\n",
    "prune.global_unstructured(\n",
    "    layers,\n",
    "    pruning_method=prune.L1Unstructured,\n",
    "    amount=0.5,\n",
    ")"
   ]
  },
  {
   "cell_type": "code",
   "execution_count": 8,
   "id": "919850df-fe49-443c-ac21-0897cf5b4a55",
   "metadata": {},
   "outputs": [],
   "source": [
    "def val(model):\n",
    "    tl = 0\n",
    "    for batch, _ in tqdm(dataloader):\n",
    "        return model(batch.cuda())\n"
   ]
  },
  {
   "cell_type": "code",
   "execution_count": 9,
   "id": "ca14d19d-ec5a-4e88-bbea-c6325cdb2499",
   "metadata": {},
   "outputs": [
    {
     "name": "stderr",
     "output_type": "stream",
     "text": [
      "  0%|          | 0/6250 [00:00<?, ?it/s]\n"
     ]
    }
   ],
   "source": [
    "out = val(mae)"
   ]
  },
  {
   "cell_type": "code",
   "execution_count": 10,
   "id": "66eb991c-b8bf-4bd5-a952-58bdfac29b00",
   "metadata": {},
   "outputs": [
    {
     "data": {
      "text/plain": [
       "torch.Size([8, 12, 768])"
      ]
     },
     "execution_count": 10,
     "metadata": {},
     "output_type": "execute_result"
    }
   ],
   "source": [
    "out[1].shape"
   ]
  },
  {
   "cell_type": "code",
   "execution_count": 11,
   "id": "c6afe900-242c-43a2-b6bf-42a92d63841c",
   "metadata": {},
   "outputs": [
    {
     "data": {
      "text/plain": [
       "torch.Size([8, 12, 768])"
      ]
     },
     "execution_count": 11,
     "metadata": {},
     "output_type": "execute_result"
    }
   ],
   "source": [
    "out[2].shape"
   ]
  },
  {
   "cell_type": "code",
   "execution_count": 12,
   "id": "01d915d6-161f-4d6f-a5b0-c40f57e76715",
   "metadata": {},
   "outputs": [],
   "source": [
    "import matplotlib.pyplot as plt"
   ]
  },
  {
   "cell_type": "code",
   "execution_count": 13,
   "id": "6307b560-1849-4e38-9e51-27bacd8406a7",
   "metadata": {},
   "outputs": [
    {
     "data": {
      "text/plain": [
       "<matplotlib.image.AxesImage at 0x7ffef0bff9d0>"
      ]
     },
     "execution_count": 13,
     "metadata": {},
     "output_type": "execute_result"
    },
    {
     "data": {
      "image/png": "[encoded data removed]",
      "text/plain": [
       "<Figure size 720x720 with 1 Axes>"
      ]
     },
     "metadata": {
      "needs_background": "light"
     },
     "output_type": "display_data"
    }
   ],
   "source": [
    "plt.figure(figsize=(10,10))\n",
    "plt.imshow(out[2][0].reshape((12, 16,16,3))[0].cpu())"
   ]
  },
  {
   "cell_type": "code",
   "execution_count": 18,
   "id": "89512b33-049f-44ba-b309-2bb31ed977ae",
   "metadata": {},
   "outputs": [
    {
     "data": {
      "text/plain": [
       "<matplotlib.image.AxesImage at 0x7ffde36f6190>"
      ]
     },
     "execution_count": 18,
     "metadata": {},
     "output_type": "execute_result"
    },
    {
     "data": {
      "image/png": "[encoded data removed]",
      "text/plain": [
       "<Figure size 720x720 with 1 Axes>"
      ]
     },
     "metadata": {
      "needs_background": "light"
     },
     "output_type": "display_data"
    }
   ],
   "source": [
    "plt.figure(figsize=(10,10))\n",
    "plt.imshow(out[1][0].detach().cpu().reshape((12,16,16,3))[0].cpu())"
   ]
  },
  {
   "cell_type": "code",
   "execution_count": 15,
   "id": "3f11448e-95a4-4b17-96c7-920d84f30ed6",
   "metadata": {},
   "outputs": [
    {
     "data": {
      "text/plain": [
       "tensor([[[[0.2184, 0.2066, 0.1822],\n",
       "          [0.2141, 0.2024, 0.1809],\n",
       "          [0.2373, 0.2255, 0.1981],\n",
       "          ...,\n",
       "          [0.1902, 0.1872, 0.2041],\n",
       "          [0.1937, 0.1907, 0.2075],\n",
       "          [0.1861, 0.1878, 0.2028]],\n",
       "\n",
       "         [[0.2372, 0.2254, 0.1901],\n",
       "          [0.2352, 0.2235, 0.1882],\n",
       "          [0.2430, 0.2313, 0.2038],\n",
       "          ...,\n",
       "          [0.2078, 0.2078, 0.2156],\n",
       "          [0.2078, 0.2078, 0.2157],\n",
       "          [0.1926, 0.2039, 0.2093]],\n",
       "\n",
       "         [[0.2633, 0.2397, 0.2043],\n",
       "          [0.2651, 0.2415, 0.2106],\n",
       "          [0.2677, 0.2500, 0.2314],\n",
       "          ...,\n",
       "          [0.2150, 0.2121, 0.2288],\n",
       "          [0.2167, 0.2146, 0.2313],\n",
       "          [0.2080, 0.2148, 0.2276]],\n",
       "\n",
       "         ...,\n",
       "\n",
       "         [[0.2360, 0.2401, 0.2474],\n",
       "          [0.2481, 0.2481, 0.2473],\n",
       "          [0.2440, 0.2475, 0.2553],\n",
       "          ...,\n",
       "          [0.2667, 0.2775, 0.2368],\n",
       "          [0.2663, 0.2703, 0.2459],\n",
       "          [0.2558, 0.2650, 0.2427]],\n",
       "\n",
       "         [[0.2464, 0.2523, 0.2541],\n",
       "          [0.2611, 0.2678, 0.2549],\n",
       "          [0.2611, 0.2611, 0.2621],\n",
       "          ...,\n",
       "          [0.2588, 0.2701, 0.2427],\n",
       "          [0.2524, 0.2599, 0.2397],\n",
       "          [0.2544, 0.2554, 0.2460]],\n",
       "\n",
       "         [[0.2590, 0.2650, 0.2668],\n",
       "          [0.2667, 0.2745, 0.2607],\n",
       "          [0.2691, 0.2769, 0.2729],\n",
       "          ...,\n",
       "          [0.2519, 0.2549, 0.2430],\n",
       "          [0.2573, 0.2646, 0.2531],\n",
       "          [0.2613, 0.2613, 0.2552]]],\n",
       "\n",
       "\n",
       "        [[[0.9687, 0.9922, 0.9922],\n",
       "          [0.9686, 0.9922, 0.9922],\n",
       "          [0.9686, 0.9922, 0.9922],\n",
       "          ...,\n",
       "          [0.9843, 0.9905, 0.9976],\n",
       "          [0.9842, 0.9882, 0.9960],\n",
       "          [0.9869, 0.9907, 0.9985]],\n",
       "\n",
       "         [[0.9686, 0.9922, 0.9922],\n",
       "          [0.9686, 0.9922, 0.9922],\n",
       "          [0.9742, 0.9944, 0.9961],\n",
       "          ...,\n",
       "          [0.9837, 0.9905, 0.9974],\n",
       "          [0.9850, 0.9890, 0.9968],\n",
       "          [0.9863, 0.9903, 0.9981]],\n",
       "\n",
       "         [[0.9683, 0.9923, 0.9922],\n",
       "          [0.9713, 0.9948, 0.9948],\n",
       "          [0.9746, 0.9940, 0.9961],\n",
       "          ...,\n",
       "          [0.9860, 0.9954, 0.9996],\n",
       "          [0.9834, 0.9939, 0.9995],\n",
       "          [0.9878, 0.9917, 0.9996]],\n",
       "\n",
       "         ...,\n",
       "\n",
       "         [[0.5334, 0.5861, 0.6196],\n",
       "          [0.5050, 0.5734, 0.6015],\n",
       "          [0.4882, 0.5627, 0.5902],\n",
       "          ...,\n",
       "          [0.6683, 0.7489, 0.7553],\n",
       "          [0.7901, 0.8554, 0.8544],\n",
       "          [0.9527, 0.9740, 0.9780]],\n",
       "\n",
       "         [[0.4425, 0.5052, 0.5379],\n",
       "          [0.4183, 0.4888, 0.5182],\n",
       "          [0.4243, 0.4965, 0.5251],\n",
       "          ...,\n",
       "          [0.4441, 0.5197, 0.5324],\n",
       "          [0.5462, 0.6223, 0.6339],\n",
       "          [0.6305, 0.7100, 0.7127]],\n",
       "\n",
       "         [[0.3132, 0.3634, 0.3950],\n",
       "          [0.3045, 0.3546, 0.3902],\n",
       "          [0.3454, 0.3907, 0.4279],\n",
       "          ...,\n",
       "          [0.3837, 0.4185, 0.5047],\n",
       "          [0.5191, 0.5724, 0.6413],\n",
       "          [0.6359, 0.6856, 0.7501]]],\n",
       "\n",
       "\n",
       "        [[[0.3014, 0.2737, 0.2509],\n",
       "          [0.3113, 0.2919, 0.2528],\n",
       "          [0.3041, 0.2885, 0.2491],\n",
       "          ...,\n",
       "          [0.2542, 0.2471, 0.2276],\n",
       "          [0.2443, 0.2408, 0.2212],\n",
       "          [0.2374, 0.2330, 0.2136]],\n",
       "\n",
       "         [[0.2766, 0.2547, 0.2315],\n",
       "          [0.2892, 0.2715, 0.2377],\n",
       "          [0.2826, 0.2634, 0.2246],\n",
       "          ...,\n",
       "          [0.2752, 0.2557, 0.2338],\n",
       "          [0.2731, 0.2576, 0.2302],\n",
       "          [0.2757, 0.2611, 0.2260]],\n",
       "\n",
       "         [[0.2553, 0.2418, 0.2257],\n",
       "          [0.2540, 0.2363, 0.2196],\n",
       "          [0.2780, 0.2579, 0.2313],\n",
       "          ...,\n",
       "          [0.2785, 0.2588, 0.2314],\n",
       "          [0.2779, 0.2620, 0.2310],\n",
       "          [0.2923, 0.2763, 0.2370]],\n",
       "\n",
       "         ...,\n",
       "\n",
       "         [[0.2295, 0.2177, 0.1982],\n",
       "          [0.2373, 0.2255, 0.2059],\n",
       "          [0.2481, 0.2330, 0.2151],\n",
       "          ...,\n",
       "          [0.2009, 0.1970, 0.1813],\n",
       "          [0.2029, 0.1990, 0.1821],\n",
       "          [0.2078, 0.2021, 0.1825]],\n",
       "\n",
       "         [[0.2245, 0.2175, 0.1979],\n",
       "          [0.2387, 0.2269, 0.2073],\n",
       "          [0.2425, 0.2308, 0.2112],\n",
       "          ...,\n",
       "          [0.1903, 0.1909, 0.1707],\n",
       "          [0.1929, 0.1943, 0.1721],\n",
       "          [0.2063, 0.2019, 0.1823]],\n",
       "\n",
       "         [[0.2389, 0.2275, 0.2078],\n",
       "          [0.2410, 0.2230, 0.2012],\n",
       "          [0.2476, 0.2302, 0.2056],\n",
       "          ...,\n",
       "          [0.2000, 0.2006, 0.1811],\n",
       "          [0.1895, 0.1910, 0.1708],\n",
       "          [0.1940, 0.1901, 0.1767]]],\n",
       "\n",
       "\n",
       "        ...,\n",
       "\n",
       "\n",
       "        [[[0.2716, 0.2834, 0.2874],\n",
       "          [0.2990, 0.3663, 0.3524],\n",
       "          [0.5034, 0.6524, 0.6480],\n",
       "          ...,\n",
       "          [0.9961, 0.9882, 1.0000],\n",
       "          [0.9961, 0.9882, 1.0000],\n",
       "          [0.9961, 0.9882, 1.0000]],\n",
       "\n",
       "         [[0.2634, 0.2682, 0.2758],\n",
       "          [0.2619, 0.2718, 0.2776],\n",
       "          [0.2464, 0.3098, 0.3087],\n",
       "          ...,\n",
       "          [0.9961, 0.9882, 1.0000],\n",
       "          [0.9961, 0.9882, 1.0000],\n",
       "          [0.9961, 0.9882, 1.0000]],\n",
       "\n",
       "         [[0.2526, 0.2516, 0.2561],\n",
       "          [0.2513, 0.2489, 0.2583],\n",
       "          [0.2501, 0.2609, 0.2571],\n",
       "          ...,\n",
       "          [0.9961, 0.9882, 1.0000],\n",
       "          [0.9961, 0.9882, 1.0000],\n",
       "          [0.9961, 0.9882, 1.0000]],\n",
       "\n",
       "         ...,\n",
       "\n",
       "         [[0.1918, 0.1798, 0.1604],\n",
       "          [0.1939, 0.1808, 0.1634],\n",
       "          [0.2150, 0.1837, 0.1719],\n",
       "          ...,\n",
       "          [0.1608, 0.1725, 0.2000],\n",
       "          [0.1608, 0.1725, 0.2000],\n",
       "          [0.1482, 0.1752, 0.1912]],\n",
       "\n",
       "         [[0.2019, 0.1861, 0.1685],\n",
       "          [0.2210, 0.2014, 0.1857],\n",
       "          [0.2291, 0.2073, 0.1838],\n",
       "          ...,\n",
       "          [0.1751, 0.1821, 0.2017],\n",
       "          [0.1634, 0.1771, 0.1977],\n",
       "          [0.1586, 0.1761, 0.2007]],\n",
       "\n",
       "         [[0.2117, 0.1999, 0.1803],\n",
       "          [0.2227, 0.2031, 0.1884],\n",
       "          [0.2370, 0.2174, 0.1939],\n",
       "          ...,\n",
       "          [0.1879, 0.1881, 0.2077],\n",
       "          [0.1809, 0.1811, 0.2023],\n",
       "          [0.1737, 0.1802, 0.1998]]],\n",
       "\n",
       "\n",
       "        [[[0.9848, 0.9882, 0.9961],\n",
       "          [0.9835, 0.9874, 0.9953],\n",
       "          [0.9856, 0.9882, 0.9961],\n",
       "          ...,\n",
       "          [0.9922, 0.9922, 0.9922],\n",
       "          [0.9917, 0.9917, 0.9917],\n",
       "          [0.9883, 0.9883, 0.9883]],\n",
       "\n",
       "         [[0.9840, 0.9879, 0.9957],\n",
       "          [0.9878, 0.9917, 0.9988],\n",
       "          [0.9843, 0.9882, 0.9961],\n",
       "          ...,\n",
       "          [0.9922, 0.9922, 0.9922],\n",
       "          [0.9922, 0.9922, 0.9922],\n",
       "          [0.9922, 0.9922, 0.9922]],\n",
       "\n",
       "         [[0.9811, 0.9850, 0.9929],\n",
       "          [0.9843, 0.9882, 0.9961],\n",
       "          [0.9859, 0.9899, 0.9977],\n",
       "          ...,\n",
       "          [0.9922, 0.9922, 0.9922],\n",
       "          [0.9922, 0.9922, 0.9922],\n",
       "          [0.9957, 0.9957, 0.9957]],\n",
       "\n",
       "         ...,\n",
       "\n",
       "         [[0.9955, 0.9904, 0.9912],\n",
       "          [0.9774, 0.9923, 0.9863],\n",
       "          [0.9953, 0.9974, 0.9974],\n",
       "          ...,\n",
       "          [0.9891, 0.9959, 0.9898],\n",
       "          [0.9867, 0.9959, 0.9885],\n",
       "          [0.9871, 0.9963, 0.9889]],\n",
       "\n",
       "         [[0.8066, 0.8696, 0.8652],\n",
       "          [0.9660, 0.9746, 0.9790],\n",
       "          [0.9889, 0.9833, 0.9861],\n",
       "          ...,\n",
       "          [0.9114, 0.9454, 0.9470],\n",
       "          [0.9010, 0.9405, 0.9394],\n",
       "          [0.8882, 0.9276, 0.9265]],\n",
       "\n",
       "         [[0.7505, 0.7814, 0.8419],\n",
       "          [0.7770, 0.8367, 0.8775],\n",
       "          [0.8209, 0.8916, 0.8924],\n",
       "          ...,\n",
       "          [0.6548, 0.7255, 0.7412],\n",
       "          [0.6611, 0.7317, 0.7474],\n",
       "          [0.6666, 0.7372, 0.7529]]],\n",
       "\n",
       "\n",
       "        [[[0.9637, 0.9990, 0.9951],\n",
       "          [0.9652, 0.9975, 0.9946],\n",
       "          [0.9725, 0.9961, 0.9961],\n",
       "          ...,\n",
       "          [0.9755, 0.9935, 0.9963],\n",
       "          [0.9711, 0.9946, 0.9946],\n",
       "          [0.9725, 0.9961, 0.9961]],\n",
       "\n",
       "         [[0.9621, 0.9957, 0.9923],\n",
       "          [0.9608, 0.9961, 0.9922],\n",
       "          [0.9656, 0.9995, 0.9961],\n",
       "          ...,\n",
       "          [0.9762, 0.9927, 0.9962],\n",
       "          [0.9771, 0.9928, 0.9967],\n",
       "          [0.9800, 0.9957, 0.9996]],\n",
       "\n",
       "         [[0.9723, 0.9958, 0.9958],\n",
       "          [0.9622, 0.9975, 0.9936],\n",
       "          [0.9647, 1.0000, 0.9961],\n",
       "          ...,\n",
       "          [0.9738, 0.9951, 0.9962],\n",
       "          [0.9734, 0.9890, 0.9930],\n",
       "          [0.9730, 0.9887, 0.9927]],\n",
       "\n",
       "         ...,\n",
       "\n",
       "         [[0.9882, 0.9961, 0.9922],\n",
       "          [0.9882, 0.9949, 0.9945],\n",
       "          [0.9884, 0.9962, 0.9923],\n",
       "          ...,\n",
       "          [0.9930, 0.9930, 0.9930],\n",
       "          [0.9922, 0.9922, 0.9922],\n",
       "          [0.9922, 0.9922, 0.9922]],\n",
       "\n",
       "         [[0.9882, 0.9947, 0.9949],\n",
       "          [0.9882, 0.9961, 0.9922],\n",
       "          [0.9927, 0.9994, 0.9961],\n",
       "          ...,\n",
       "          [0.9922, 0.9922, 0.9922],\n",
       "          [0.9922, 0.9922, 0.9922],\n",
       "          [0.9922, 0.9922, 0.9922]],\n",
       "\n",
       "         [[0.9852, 0.9892, 0.9980],\n",
       "          [0.9882, 0.9943, 0.9958],\n",
       "          [0.9922, 0.9922, 0.9922],\n",
       "          ...,\n",
       "          [0.9933, 0.9933, 0.9933],\n",
       "          [0.9922, 0.9922, 0.9922],\n",
       "          [0.9922, 0.9922, 0.9922]]]], device='cuda:0')"
      ]
     },
     "execution_count": 15,
     "metadata": {},
     "output_type": "execute_result"
    }
   ],
   "source": [
    "\n",
    "out[2][0].reshape((12, 16,16,3))"
   ]
  },
  {
   "cell_type": "code",
   "execution_count": null,
   "id": "70ba6bd2-a60f-4704-a9b5-23c955b39b7f",
   "metadata": {},
   "outputs": [],
   "source": []
  }
 ],
 "metadata": {
  "kernelspec": {
   "display_name": "Python [conda env:.conda-cv]",
   "language": "python",
   "name": "conda-env-.conda-cv-py"
  },
  "language_info": {
   "codemirror_mode": {
    "name": "ipython",
    "version": 3
   },
   "file_extension": ".py",
   "mimetype": "text/x-python",
   "name": "python",
   "nbconvert_exporter": "python",
   "pygments_lexer": "ipython3",
   "version": "3.9.7"
  }
 },
 "nbformat": 4,
 "nbformat_minor": 5
}
